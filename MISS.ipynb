{
 "cells": [
  {
   "cell_type": "markdown",
   "id": "edf83164",
   "metadata": {},
   "source": [
    "## Imports"
   ]
  },
  {
   "cell_type": "code",
   "execution_count": 1,
   "id": "fdcad822",
   "metadata": {},
   "outputs": [],
   "source": [
    "import numpy as np\n",
    "import pandas as pd\n",
    "import scipy\n",
    "from scipy import optimize\n",
    "from multiprocessing import Process\n",
    "import copy\n",
    "import random\n",
    "from sklearn import preprocessing"
   ]
  },
  {
   "cell_type": "markdown",
   "id": "211fb202",
   "metadata": {},
   "source": [
    "## Import from Mrx3"
   ]
  },
  {
   "cell_type": "code",
   "execution_count": 67,
   "id": "2c2e5802",
   "metadata": {},
   "outputs": [],
   "source": [
    "c = np.load(\"/beegfs/home/pmatyskova/project/mrstep_c_miss_hm185cor_minres_mr1500_filled0.npy\")\n",
    "e = np.load(\"/beegfs/home/pmatyskova/project/mrstep_e_miss_hm185cor_minres_mr1500_filled0.npy\")"
   ]
  },
  {
   "cell_type": "markdown",
   "id": "12c821bb",
   "metadata": {},
   "source": [
    "## Gene set size"
   ]
  },
  {
   "cell_type": "code",
   "execution_count": 69,
   "id": "e704627c",
   "metadata": {},
   "outputs": [],
   "source": [
    "set_size = 1300\n",
    "c = c[0:set_size,]\n",
    "e = e[0:set_size,]"
   ]
  },
  {
   "cell_type": "markdown",
   "id": "a3625e8f",
   "metadata": {},
   "source": [
    "## Solve a linear matrix equation"
   ]
  },
  {
   "cell_type": "markdown",
   "id": "2bc80aef",
   "metadata": {},
   "source": [
    "options: scipy.optimize.nnls or np.linalg.solve"
   ]
  },
  {
   "cell_type": "code",
   "execution_count": 71,
   "id": "44251284",
   "metadata": {},
   "outputs": [],
   "source": [
    "Xe = np.ones(e.shape[0])\n",
    "d, a = scipy.optimize.nnls(c,Xe)\n",
    "\n",
    "#s_scaler = preprocessing.StandardScaler() #applying row standardization\n",
    "#e = s_scaler.fit_transform(e)\n",
    "#c = s_scaler.fit_transform(c)"
   ]
  },
  {
   "cell_type": "code",
   "execution_count": 72,
   "id": "c20f35bc",
   "metadata": {},
   "outputs": [],
   "source": [
    "for i in range(e.shape[1]):\n",
    "    e_loop = e[:,i]\n",
    "    d1 = scipy.optimize.nnls(c, e_loop)\n",
    "    d = np.vstack([d, d1[0]])"
   ]
  },
  {
   "cell_type": "markdown",
   "id": "4001332a",
   "metadata": {},
   "source": [
    "## Save d matrix"
   ]
  },
  {
   "cell_type": "code",
   "execution_count": 73,
   "id": "cf71c065",
   "metadata": {},
   "outputs": [
    {
     "data": {
      "text/plain": [
       "(2031, 185)"
      ]
     },
     "execution_count": 73,
     "metadata": {},
     "output_type": "execute_result"
    }
   ],
   "source": [
    "d1 = d[1:d.shape[0],:]\n",
    "d1.shape"
   ]
  },
  {
   "cell_type": "code",
   "execution_count": 74,
   "id": "70cdffa5",
   "metadata": {},
   "outputs": [],
   "source": [
    "np.save(file = \"/beegfs/home/pmatyskova/project/d_miss_hm185cor_minres_mr1300_filled0\", arr = d1)"
   ]
  },
  {
   "cell_type": "markdown",
   "id": "fcaf1c3e",
   "metadata": {},
   "source": [
    "## Quantitative model evaluation"
   ]
  },
  {
   "cell_type": "code",
   "execution_count": 75,
   "id": "2224789e",
   "metadata": {},
   "outputs": [],
   "source": [
    "hyp = pd.read_csv('/beegfs/scratch/bruening_scratch/lsteuernagel/data/petra_data/hypoMap_avg_signatures/hypomap_avg_signatures_C185_rna.txt', \n",
    "                  sep = \"\\t\")\n",
    "hyp.index = hyp.iloc[:,0]\n",
    "hyp = hyp.drop(['Unnamed: 0'], axis=1)"
   ]
  },
  {
   "cell_type": "code",
   "execution_count": 76,
   "id": "b70c8c7b",
   "metadata": {},
   "outputs": [],
   "source": [
    "def annot_function(d, annot, ref):\n",
    "    #annotate predictions (cell type & voxel locations + ABA annotations)\n",
    "    d = pd.DataFrame(d)\n",
    "    d.columns = hyp.columns\n",
    "    d = d.loc[:,d.columns.isin(ref.loc[:,'cluster'])] #only keep cell types for which we have reference\n",
    "    d['merge'] = d.index #index column for merging\n",
    "    d_annot = pd.merge(d, annot)\n",
    "    d_annot = d_annot.drop('merge', axis = 1)\n",
    "    \n",
    "    return(d_annot)"
   ]
  },
  {
   "cell_type": "code",
   "execution_count": 77,
   "id": "8dfb5142",
   "metadata": {},
   "outputs": [],
   "source": [
    "def eval_function(d, annot, ref):    \n",
    "    #evaluation (comparson with the ground truth)\n",
    "    d_ann = annot_function(d, annot, ref)\n",
    "    \n",
    "    model_eval = []\n",
    "    for i in range(ref.shape[0]):\n",
    "        #filter region that is predicted in the ground truth for each cell type\n",
    "        #to include not only exact region name but also its children - not just \"Medial preoptic nucleus\"\n",
    "        #but also Medial preoptic nucleus, central/lateral/medial part:\n",
    "        filt = [] \n",
    "        for j in range(d_ann.shape[0]):\n",
    "            filt_i = ref['Region_ground_truth'][i] in d_ann['name'][j]\n",
    "            filt.append(filt_i)\n",
    "        d_filt = d_ann[filt]\n",
    "    \n",
    "        #calculations:\n",
    "        score_i = (sum(d_filt[ref['cluster'][i]]))/(sum(d_ann[ref['cluster'][i]])+0.000001)\n",
    "        model_eval.append(score_i)\n",
    "    \n",
    "    copy_ref = copy.copy(ref)\n",
    "    copy_ref['model_eval'] = model_eval\n",
    "    return(copy_ref)"
   ]
  },
  {
   "cell_type": "code",
   "execution_count": 78,
   "id": "d6028e9a",
   "metadata": {},
   "outputs": [],
   "source": [
    "ann_hypnoSFO = pd.read_csv('/beegfs/home/pmatyskova/project/ish_annot_hypnoSFO.csv')\n",
    "ann_hypnoSFO['merge'] = ann_hypnoSFO.index\n",
    "ann_hypnoSFO = ann_hypnoSFO.iloc[:,[0,1,2,7,14]]\n",
    "\n",
    "gt_hm185 = pd.read_csv('/beegfs/scratch/bruening_scratch/lsteuernagel/projects/analysis_projects/volumetric_analysis/hypoMap_region_annotation_withSpatial_C185.txt', sep = \"\\t\")\n",
    "gt_hm185 = gt_hm185.iloc[:,0:2]"
   ]
  },
  {
   "cell_type": "code",
   "execution_count": 79,
   "id": "6dfc1fac",
   "metadata": {},
   "outputs": [],
   "source": [
    "gt_hm185 = gt_hm185.drop_duplicates(subset = ['cluster'], keep='first')\n",
    "gt_hm185.index = np.arange(0,len(gt_hm185))"
   ]
  },
  {
   "cell_type": "code",
   "execution_count": 80,
   "id": "18da649c",
   "metadata": {},
   "outputs": [
    {
     "data": {
      "text/html": [
       "<div>\n",
       "<style scoped>\n",
       "    .dataframe tbody tr th:only-of-type {\n",
       "        vertical-align: middle;\n",
       "    }\n",
       "\n",
       "    .dataframe tbody tr th {\n",
       "        vertical-align: top;\n",
       "    }\n",
       "\n",
       "    .dataframe thead th {\n",
       "        text-align: right;\n",
       "    }\n",
       "</style>\n",
       "<table border=\"1\" class=\"dataframe\">\n",
       "  <thead>\n",
       "    <tr style=\"text-align: right;\">\n",
       "      <th></th>\n",
       "      <th>cluster</th>\n",
       "      <th>Region_ground_truth</th>\n",
       "      <th>model_eval</th>\n",
       "    </tr>\n",
       "  </thead>\n",
       "  <tbody>\n",
       "    <tr>\n",
       "      <th>0</th>\n",
       "      <td>C185-65: Unassigned.Mixed.GABA-2</td>\n",
       "      <td>Medial preoptic nucleus</td>\n",
       "      <td>0.000000</td>\n",
       "    </tr>\n",
       "    <tr>\n",
       "      <th>1</th>\n",
       "      <td>C185-71: Vip.Vipr2.GABA-2</td>\n",
       "      <td>Suprachiasmatic nucleus</td>\n",
       "      <td>0.598862</td>\n",
       "    </tr>\n",
       "    <tr>\n",
       "      <th>2</th>\n",
       "      <td>C185-72: Fam122b.Vipr2.GABA-2</td>\n",
       "      <td>Suprachiasmatic nucleus</td>\n",
       "      <td>0.000000</td>\n",
       "    </tr>\n",
       "    <tr>\n",
       "      <th>3</th>\n",
       "      <td>C185-73: Cck.Vipr2.GABA-2</td>\n",
       "      <td>Suprachiasmatic nucleus</td>\n",
       "      <td>0.166317</td>\n",
       "    </tr>\n",
       "    <tr>\n",
       "      <th>4</th>\n",
       "      <td>C185-11: Cbln2.Trh.GLU-2</td>\n",
       "      <td>Paraventricular hypothalamic nucleus</td>\n",
       "      <td>0.219861</td>\n",
       "    </tr>\n",
       "    <tr>\n",
       "      <th>...</th>\n",
       "      <td>...</td>\n",
       "      <td>...</td>\n",
       "      <td>...</td>\n",
       "    </tr>\n",
       "    <tr>\n",
       "      <th>63</th>\n",
       "      <td>C185-134: Frzb.Tanycytes</td>\n",
       "      <td>Arcuate hypothalamic nucleus</td>\n",
       "      <td>0.142445</td>\n",
       "    </tr>\n",
       "    <tr>\n",
       "      <th>64</th>\n",
       "      <td>C185-51: Tac2.GLU-5</td>\n",
       "      <td>Arcuate hypothalamic nucleus</td>\n",
       "      <td>0.000000</td>\n",
       "    </tr>\n",
       "    <tr>\n",
       "      <th>65</th>\n",
       "      <td>C185-61: Prkch.GLU-8</td>\n",
       "      <td>Lateral mammillary nucleus</td>\n",
       "      <td>0.999999</td>\n",
       "    </tr>\n",
       "    <tr>\n",
       "      <th>66</th>\n",
       "      <td>C185-64: Meis2.Mixed.GABA-2</td>\n",
       "      <td>Zona incerta</td>\n",
       "      <td>0.000000</td>\n",
       "    </tr>\n",
       "    <tr>\n",
       "      <th>67</th>\n",
       "      <td>C185-66: Unassigned.Mixed.GABA-2</td>\n",
       "      <td>Anterior hypothalamic nucleus</td>\n",
       "      <td>0.000000</td>\n",
       "    </tr>\n",
       "  </tbody>\n",
       "</table>\n",
       "<p>68 rows × 3 columns</p>\n",
       "</div>"
      ],
      "text/plain": [
       "                             cluster                   Region_ground_truth  \\\n",
       "0   C185-65: Unassigned.Mixed.GABA-2               Medial preoptic nucleus   \n",
       "1          C185-71: Vip.Vipr2.GABA-2               Suprachiasmatic nucleus   \n",
       "2      C185-72: Fam122b.Vipr2.GABA-2               Suprachiasmatic nucleus   \n",
       "3          C185-73: Cck.Vipr2.GABA-2               Suprachiasmatic nucleus   \n",
       "4           C185-11: Cbln2.Trh.GLU-2  Paraventricular hypothalamic nucleus   \n",
       "..                               ...                                   ...   \n",
       "63          C185-134: Frzb.Tanycytes          Arcuate hypothalamic nucleus   \n",
       "64               C185-51: Tac2.GLU-5          Arcuate hypothalamic nucleus   \n",
       "65              C185-61: Prkch.GLU-8            Lateral mammillary nucleus   \n",
       "66       C185-64: Meis2.Mixed.GABA-2                          Zona incerta   \n",
       "67  C185-66: Unassigned.Mixed.GABA-2         Anterior hypothalamic nucleus   \n",
       "\n",
       "    model_eval  \n",
       "0     0.000000  \n",
       "1     0.598862  \n",
       "2     0.000000  \n",
       "3     0.166317  \n",
       "4     0.219861  \n",
       "..         ...  \n",
       "63    0.142445  \n",
       "64    0.000000  \n",
       "65    0.999999  \n",
       "66    0.000000  \n",
       "67    0.000000  \n",
       "\n",
       "[68 rows x 3 columns]"
      ]
     },
     "execution_count": 80,
     "metadata": {},
     "output_type": "execute_result"
    }
   ],
   "source": [
    "final_eval = eval_function(d1, ann_hypnoSFO, gt_hm185)"
   ]
  },
  {
   "cell_type": "markdown",
   "id": "dfadb828",
   "metadata": {},
   "source": [
    "## Permutation test on voxel randomized predictions"
   ]
  },
  {
   "cell_type": "code",
   "execution_count": 81,
   "id": "bc7cf239",
   "metadata": {},
   "outputs": [],
   "source": [
    "def voxelperm_annot_function(d, annot, ref):\n",
    "    #annotate voxel permuted predictions (cell type & randomised voxel location + ABA annotations)\n",
    "    d = pd.DataFrame(d)\n",
    "    d.columns = hyp.columns \n",
    "    d = d.loc[:,d.columns.isin(ref.loc[:,'cluster'])] #only keep cell types for which we have reference\n",
    "    \n",
    "    d_perm = d.sample(frac=1, axis=0) #suffle row order\n",
    "    d_perm.index = d.index\n",
    "    \n",
    "    d_perm['merge'] = d_perm.index #index column for merging\n",
    "    d_annot = pd.merge(d_perm, annot)\n",
    "    d_annot = d_annot.drop('merge', axis = 1)\n",
    "    \n",
    "    model_eval = []\n",
    "    for i in range(ref.shape[0]):\n",
    "        #filter region that is predicted in the ground truth for each cell type\n",
    "        #to include not only exact region name but also its children - not just \"Medial preoptic nucleus\"\n",
    "        #but also Medial preoptic nucleus, central/lateral/medial part:\n",
    "        filt = [] \n",
    "        for j in range(d_annot.shape[0]):\n",
    "            filt_i = ref['Region_ground_truth'][i] in d_annot['name'][j]\n",
    "            filt.append(filt_i)\n",
    "        d_filt = d_annot[filt]\n",
    "    \n",
    "        #calculations:\n",
    "        score_i = (sum(d_filt[ref['cluster'][i]]))/(sum(d_annot[ref['cluster'][i]])+0.000001)\n",
    "        model_eval.append(score_i)\n",
    "    \n",
    "    copy2_ref = copy.copy(ref)\n",
    "    copy2_ref['randmodel_eval'] = model_eval\n",
    "    return(copy2_ref)"
   ]
  },
  {
   "cell_type": "code",
   "execution_count": 82,
   "id": "5dee882b",
   "metadata": {},
   "outputs": [
    {
     "data": {
      "text/html": [
       "<div>\n",
       "<style scoped>\n",
       "    .dataframe tbody tr th:only-of-type {\n",
       "        vertical-align: middle;\n",
       "    }\n",
       "\n",
       "    .dataframe tbody tr th {\n",
       "        vertical-align: top;\n",
       "    }\n",
       "\n",
       "    .dataframe thead th {\n",
       "        text-align: right;\n",
       "    }\n",
       "</style>\n",
       "<table border=\"1\" class=\"dataframe\">\n",
       "  <thead>\n",
       "    <tr style=\"text-align: right;\">\n",
       "      <th></th>\n",
       "      <th>cluster</th>\n",
       "      <th>Region_ground_truth</th>\n",
       "      <th>model_eval</th>\n",
       "      <th>voxpermut_eval</th>\n",
       "    </tr>\n",
       "  </thead>\n",
       "  <tbody>\n",
       "    <tr>\n",
       "      <th>0</th>\n",
       "      <td>C185-65: Unassigned.Mixed.GABA-2</td>\n",
       "      <td>Medial preoptic nucleus</td>\n",
       "      <td>0.000000</td>\n",
       "      <td>0.010700</td>\n",
       "    </tr>\n",
       "    <tr>\n",
       "      <th>1</th>\n",
       "      <td>C185-71: Vip.Vipr2.GABA-2</td>\n",
       "      <td>Suprachiasmatic nucleus</td>\n",
       "      <td>0.598862</td>\n",
       "      <td>0.004284</td>\n",
       "    </tr>\n",
       "    <tr>\n",
       "      <th>2</th>\n",
       "      <td>C185-72: Fam122b.Vipr2.GABA-2</td>\n",
       "      <td>Suprachiasmatic nucleus</td>\n",
       "      <td>0.000000</td>\n",
       "      <td>0.005293</td>\n",
       "    </tr>\n",
       "    <tr>\n",
       "      <th>3</th>\n",
       "      <td>C185-73: Cck.Vipr2.GABA-2</td>\n",
       "      <td>Suprachiasmatic nucleus</td>\n",
       "      <td>0.166317</td>\n",
       "      <td>0.006105</td>\n",
       "    </tr>\n",
       "    <tr>\n",
       "      <th>4</th>\n",
       "      <td>C185-11: Cbln2.Trh.GLU-2</td>\n",
       "      <td>Paraventricular hypothalamic nucleus</td>\n",
       "      <td>0.219861</td>\n",
       "      <td>0.018450</td>\n",
       "    </tr>\n",
       "    <tr>\n",
       "      <th>...</th>\n",
       "      <td>...</td>\n",
       "      <td>...</td>\n",
       "      <td>...</td>\n",
       "      <td>...</td>\n",
       "    </tr>\n",
       "    <tr>\n",
       "      <th>63</th>\n",
       "      <td>C185-134: Frzb.Tanycytes</td>\n",
       "      <td>Arcuate hypothalamic nucleus</td>\n",
       "      <td>0.142445</td>\n",
       "      <td>0.015346</td>\n",
       "    </tr>\n",
       "    <tr>\n",
       "      <th>64</th>\n",
       "      <td>C185-51: Tac2.GLU-5</td>\n",
       "      <td>Arcuate hypothalamic nucleus</td>\n",
       "      <td>0.000000</td>\n",
       "      <td>0.000000</td>\n",
       "    </tr>\n",
       "    <tr>\n",
       "      <th>65</th>\n",
       "      <td>C185-61: Prkch.GLU-8</td>\n",
       "      <td>Lateral mammillary nucleus</td>\n",
       "      <td>0.999999</td>\n",
       "      <td>0.000226</td>\n",
       "    </tr>\n",
       "    <tr>\n",
       "      <th>66</th>\n",
       "      <td>C185-64: Meis2.Mixed.GABA-2</td>\n",
       "      <td>Zona incerta</td>\n",
       "      <td>0.000000</td>\n",
       "      <td>0.144307</td>\n",
       "    </tr>\n",
       "    <tr>\n",
       "      <th>67</th>\n",
       "      <td>C185-66: Unassigned.Mixed.GABA-2</td>\n",
       "      <td>Anterior hypothalamic nucleus</td>\n",
       "      <td>0.000000</td>\n",
       "      <td>0.000000</td>\n",
       "    </tr>\n",
       "  </tbody>\n",
       "</table>\n",
       "<p>68 rows × 4 columns</p>\n",
       "</div>"
      ],
      "text/plain": [
       "                             cluster                   Region_ground_truth  \\\n",
       "0   C185-65: Unassigned.Mixed.GABA-2               Medial preoptic nucleus   \n",
       "1          C185-71: Vip.Vipr2.GABA-2               Suprachiasmatic nucleus   \n",
       "2      C185-72: Fam122b.Vipr2.GABA-2               Suprachiasmatic nucleus   \n",
       "3          C185-73: Cck.Vipr2.GABA-2               Suprachiasmatic nucleus   \n",
       "4           C185-11: Cbln2.Trh.GLU-2  Paraventricular hypothalamic nucleus   \n",
       "..                               ...                                   ...   \n",
       "63          C185-134: Frzb.Tanycytes          Arcuate hypothalamic nucleus   \n",
       "64               C185-51: Tac2.GLU-5          Arcuate hypothalamic nucleus   \n",
       "65              C185-61: Prkch.GLU-8            Lateral mammillary nucleus   \n",
       "66       C185-64: Meis2.Mixed.GABA-2                          Zona incerta   \n",
       "67  C185-66: Unassigned.Mixed.GABA-2         Anterior hypothalamic nucleus   \n",
       "\n",
       "    model_eval  voxpermut_eval  \n",
       "0     0.000000        0.010700  \n",
       "1     0.598862        0.004284  \n",
       "2     0.000000        0.005293  \n",
       "3     0.166317        0.006105  \n",
       "4     0.219861        0.018450  \n",
       "..         ...             ...  \n",
       "63    0.142445        0.015346  \n",
       "64    0.000000        0.000000  \n",
       "65    0.999999        0.000226  \n",
       "66    0.000000        0.144307  \n",
       "67    0.000000        0.000000  \n",
       "\n",
       "[68 rows x 4 columns]"
      ]
     },
     "execution_count": 82,
     "metadata": {},
     "output_type": "execute_result"
    }
   ],
   "source": [
    "voxpermutation_iters = 200\n",
    "voxpermut_evals = pd.DataFrame(columns = list(map('x{}'.format, range(1, voxpermutation_iters+1))))\n",
    "for i in range(voxpermutation_iters):\n",
    "    dvoxperm_evaluation = voxelperm_annot_function(d1, ann_hypnoSFO, gt_hm185) #gt_hm286 or gt_hm286n or gt_hm185\n",
    "    voxpermut_evals.iloc[:,i] = dvoxperm_evaluation['randmodel_eval']\n",
    "\n",
    "voxpermut_eval_tot = voxpermut_evals.mean(axis=1)\n",
    "final_eval['voxpermut_eval'] = voxpermut_eval_tot\n",
    "final_eval"
   ]
  },
  {
   "cell_type": "code",
   "execution_count": 83,
   "id": "7bb608e6",
   "metadata": {},
   "outputs": [],
   "source": [
    "final_eval.to_csv(\"/beegfs/home/pmatyskova/project/feval_miss_hm185cor_minres_mr1300_filled0.csv\") "
   ]
  },
  {
   "cell_type": "code",
   "execution_count": null,
   "id": "ae161713",
   "metadata": {},
   "outputs": [],
   "source": []
  }
 ],
 "metadata": {
  "kernelspec": {
   "display_name": "Python 3 (ipykernel)",
   "language": "python",
   "name": "python3"
  },
  "language_info": {
   "codemirror_mode": {
    "name": "ipython",
    "version": 3
   },
   "file_extension": ".py",
   "mimetype": "text/x-python",
   "name": "python",
   "nbconvert_exporter": "python",
   "pygments_lexer": "ipython3",
   "version": "3.10.5"
  }
 },
 "nbformat": 4,
 "nbformat_minor": 5
}
