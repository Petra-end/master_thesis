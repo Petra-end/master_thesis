{
 "cells": [
  {
   "cell_type": "markdown",
   "id": "d8ca4177",
   "metadata": {},
   "source": [
    "## Imports"
   ]
  },
  {
   "cell_type": "code",
   "execution_count": 2,
   "id": "37a9a307",
   "metadata": {},
   "outputs": [
    {
     "name": "stderr",
     "output_type": "stream",
     "text": [
      "Matplotlib created a temporary config/cache directory at /tmp/matplotlib-_okjjfud because the default path (/home/jovyan/.cache/matplotlib) is not a writable directory; it is highly recommended to set the MPLCONFIGDIR environment variable to a writable directory, in particular to speed up the import of Matplotlib and to better support multiprocessing.\n"
     ]
    }
   ],
   "source": [
    "import numpy as np\n",
    "import pandas as pd\n",
    "import matplotlib.pyplot as plt\n",
    "import random "
   ]
  },
  {
   "cell_type": "markdown",
   "id": "c471ead0",
   "metadata": {},
   "source": [
    "## Import data"
   ]
  },
  {
   "cell_type": "markdown",
   "id": "3ab43d25",
   "metadata": {},
   "source": [
    "### 1b. Filled ISH"
   ]
  },
  {
   "cell_type": "code",
   "execution_count": 2,
   "id": "2445b1d2",
   "metadata": {},
   "outputs": [],
   "source": [
    "ish = pd.read_csv(\"/beegfs/home/pmatyskova/project/ish_data_cor_hypnoSFO_filled1_0.csv\") #filled with 0 only"
   ]
  },
  {
   "cell_type": "code",
   "execution_count": 3,
   "id": "f7b38e86",
   "metadata": {},
   "outputs": [],
   "source": [
    "ish_full_genenames = np.load(\"/beegfs/home/pmatyskova/project/ish_data_cor_genenames.npy\")\n",
    "\n",
    "ish = ish.drop(['Unnamed: 0'], axis=1)\n",
    "ish.columns = ish_full_genenames\n",
    "ish = np.transpose(ish)\n",
    "ish['Unnamed: 0'] = ish.index"
   ]
  },
  {
   "cell_type": "markdown",
   "id": "c9074c42",
   "metadata": {},
   "source": [
    "### 2. scRNAseq"
   ]
  },
  {
   "cell_type": "code",
   "execution_count": 4,
   "id": "5557c1d6",
   "metadata": {},
   "outputs": [],
   "source": [
    "hyp = pd.read_csv('/beegfs/scratch/bruening_scratch/lsteuernagel/data/petra_data/hypoMap_avg_signatures/hypomap_avg_signatures_C185_rna.txt', sep = \"\\t\")\n",
    "hyp.index = hyp.iloc[:,0]\n",
    "hyp = hyp.drop(['Unnamed: 0'], axis=1)\n",
    "\n",
    "genes_to_exclude = pd.read_csv('/beegfs/scratch/bruening_scratch/lsteuernagel/projects/analysis_projects/volumetric_analysis/genes_to_exclude.csv',\n",
    "                               header = None)\n",
    "hyp = hyp[~hyp.index.isin(genes_to_exclude.iloc[:,0])] #exclude the genes to exclude from hypomap output"
   ]
  },
  {
   "cell_type": "markdown",
   "id": "cb3ca3a4",
   "metadata": {},
   "source": [
    "### Random probe selection"
   ]
  },
  {
   "cell_type": "code",
   "execution_count": null,
   "id": "9efe7d86",
   "metadata": {},
   "outputs": [],
   "source": [
    "#remove duplicates: random pick\n",
    "ish = ish.sample(frac=1, random_state=1) \n",
    "ish = ish.drop_duplicates(subset = ['Unnamed: 0'], keep='first')\n",
    "ish = ish.drop(['Unnamed: 0'], axis=1)"
   ]
  },
  {
   "cell_type": "code",
   "execution_count": 6,
   "id": "fa3d4a4b",
   "metadata": {},
   "outputs": [],
   "source": [
    "ish = ish[ish.index.isin(hyp.index)] #keep the common ones\n",
    "hyp = hyp[hyp.index.isin(ish.index)] #keep the common ones"
   ]
  },
  {
   "cell_type": "code",
   "execution_count": 7,
   "id": "1e236e83",
   "metadata": {},
   "outputs": [],
   "source": [
    "match_index = [list(hyp.index).index(i) for i in list(ish.index)] #find indeces to reorder hyp to ish\n",
    "hyp = hyp.iloc[match_index,] #reorder hyp to match ish"
   ]
  },
  {
   "cell_type": "code",
   "execution_count": 8,
   "id": "d85ebde3",
   "metadata": {},
   "outputs": [],
   "source": [
    "gene_annot = hyp.index #save gene names to know what genes selected\n",
    "cellt_annot = hyp.columns #save cellt names to annotate np array later\n",
    "\n",
    "c = hyp.to_numpy()\n",
    "e = ish.to_numpy()"
   ]
  },
  {
   "cell_type": "markdown",
   "id": "e3761849",
   "metadata": {},
   "source": [
    "### Save"
   ]
  },
  {
   "cell_type": "code",
   "execution_count": null,
   "id": "aa4b3fcb",
   "metadata": {},
   "outputs": [],
   "source": [
    "np.save(file = \"/beegfs/home/pmatyskova/project/ishfstep_c_hm185cor_randp_filled0\", arr = c)\n",
    "np.save(file = \"/beegfs/home/pmatyskova/project/ishfstep_e_hm185cor_randp_filled0\", arr = e)\n",
    "np.save(file = \"/beegfs/home/pmatyskova/project/ishfstep_geneset_hm185cor_randp_filled0\", arr = gene_annot)"
   ]
  }
 ],
 "metadata": {
  "kernelspec": {
   "display_name": "Python 3 (ipykernel)",
   "language": "python",
   "name": "python3"
  },
  "language_info": {
   "codemirror_mode": {
    "name": "ipython",
    "version": 3
   },
   "file_extension": ".py",
   "mimetype": "text/x-python",
   "name": "python",
   "nbconvert_exporter": "python",
   "pygments_lexer": "ipython3",
   "version": "3.10.5"
  }
 },
 "nbformat": 4,
 "nbformat_minor": 5
}
