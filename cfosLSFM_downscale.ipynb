{
 "cells": [
  {
   "cell_type": "markdown",
   "id": "da484a9b",
   "metadata": {},
   "source": [
    "### Import packages"
   ]
  },
  {
   "cell_type": "code",
   "execution_count": 2,
   "id": "5ef4f26d",
   "metadata": {},
   "outputs": [],
   "source": [
    "import numpy as np\n",
    "import matplotlib.pyplot as plt\n",
    "import pandas as pd\n",
    "import skimage\n",
    "import statistics as st"
   ]
  },
  {
   "cell_type": "markdown",
   "id": "7b8d1797",
   "metadata": {},
   "source": [
    "## Renier lab's data"
   ]
  },
  {
   "cell_type": "code",
   "execution_count": 9,
   "id": "bfb75354",
   "metadata": {},
   "outputs": [
    {
     "data": {
      "text/plain": [
       "(528, 320, 456)"
      ]
     },
     "execution_count": 9,
     "metadata": {},
     "output_type": "execute_result"
    }
   ],
   "source": [
    "nic_dat = np.load(\"/beegfs/home/pmatyskova/project/nicnew_fedref_rychannelpad.npy\")\n",
    "nic_dat.shape"
   ]
  },
  {
   "cell_type": "code",
   "execution_count": 10,
   "id": "8f27ca3b",
   "metadata": {},
   "outputs": [
    {
     "data": {
      "text/plain": [
       "(67, 41, 58)"
      ]
     },
     "execution_count": 10,
     "metadata": {},
     "output_type": "execute_result"
    }
   ],
   "source": [
    "nic_pad = np.pad(nic_dat, pad_width=((1,1),(1,1),(1,1)))\n",
    "nic_200 = skimage.measure.block_reduce(nic_pad, block_size=(8,8,8),func=np.median) #np.median for p values\n",
    "nic_200.shape"
   ]
  },
  {
   "cell_type": "code",
   "execution_count": 11,
   "id": "89ba697c",
   "metadata": {},
   "outputs": [],
   "source": [
    "np.save(file = \"/beegfs/home/pmatyskova/project/nicnew_fedref_rychannelpad_reshape200\", arr = nic_200)"
   ]
  },
  {
   "cell_type": "code",
   "execution_count": null,
   "id": "b896d02b",
   "metadata": {},
   "outputs": [],
   "source": []
  }
 ],
 "metadata": {
  "kernelspec": {
   "display_name": "Python 3 (ipykernel)",
   "language": "python",
   "name": "python3"
  },
  "language_info": {
   "codemirror_mode": {
    "name": "ipython",
    "version": 3
   },
   "file_extension": ".py",
   "mimetype": "text/x-python",
   "name": "python",
   "nbconvert_exporter": "python",
   "pygments_lexer": "ipython3",
   "version": "3.10.5"
  }
 },
 "nbformat": 4,
 "nbformat_minor": 5
}
