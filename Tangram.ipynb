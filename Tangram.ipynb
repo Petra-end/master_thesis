{
 "cells": [
  {
   "cell_type": "markdown",
   "id": "d6467450",
   "metadata": {},
   "source": [
    "## Import packages"
   ]
  },
  {
   "cell_type": "code",
   "execution_count": 1,
   "id": "bcb74f32",
   "metadata": {},
   "outputs": [],
   "source": [
    "import os, sys\n",
    "import numpy as np\n",
    "import pandas as pd\n",
    "import matplotlib.pyplot as plt\n",
    "import seaborn as sns\n",
    "import scanpy as sc\n",
    "import torch\n",
    "sys.path.append('./')  # uncomment for local import\n",
    "import tangram as tg\n",
    "import copy\n",
    "import anndata"
   ]
  },
  {
   "cell_type": "code",
   "execution_count": 2,
   "id": "048ceb77",
   "metadata": {},
   "outputs": [
    {
     "data": {
      "text/plain": [
       "'1.0.3'"
      ]
     },
     "execution_count": 2,
     "metadata": {},
     "output_type": "execute_result"
    }
   ],
   "source": [
    "%load_ext autoreload\n",
    "%autoreload 2\n",
    "%matplotlib inline\n",
    "\n",
    "tg.__version__"
   ]
  },
  {
   "cell_type": "markdown",
   "id": "9d1d437b",
   "metadata": {},
   "source": [
    "## Import data"
   ]
  },
  {
   "cell_type": "markdown",
   "id": "a82fba2a",
   "metadata": {},
   "source": [
    "### Filtered ISH"
   ]
  },
  {
   "cell_type": "code",
   "execution_count": 3,
   "id": "03963d03",
   "metadata": {},
   "outputs": [],
   "source": [
    "ish = np.load(\"/beegfs/home/pmatyskova/project/ishfstep_e_hm185cor_minres_filled0.npy\")\n",
    "gene_annot = np.load(\"/beegfs/home/pmatyskova/project/ishfstep_geneset_hm185cor_minres_filled0.npy\", \n",
    "                      allow_pickle=True)\n",
    "ish = pd.DataFrame(ish)\n",
    "ish.index = gene_annot"
   ]
  },
  {
   "cell_type": "markdown",
   "id": "2fac9b7d",
   "metadata": {},
   "source": [
    "### Spacial data"
   ]
  },
  {
   "cell_type": "code",
   "execution_count": 4,
   "id": "703a7124",
   "metadata": {},
   "outputs": [],
   "source": [
    "ish = np.transpose(ish)\n",
    "ish_sp = sc.AnnData(ish, obs = ish.index.to_frame(), \n",
    "                    var = ish.columns.to_frame())"
   ]
  },
  {
   "cell_type": "markdown",
   "id": "780ff153",
   "metadata": {},
   "source": [
    "### Single cell data"
   ]
  },
  {
   "cell_type": "code",
   "execution_count": 6,
   "id": "8cd19e27",
   "metadata": {},
   "outputs": [
    {
     "data": {
      "text/plain": [
       "AnnData object with n_obs × n_vars = 384925 × 57362\n",
       "    obs: 'Cell_ID', 'Dataset', 'SRA_ID', 'Sample_ID', 'GEO_ID', 'Run10x', 'Technology', 'Strain', 'Diet', 'Pooled', 'Age', 'Author_Region', 'inferred_sex', 'nCount_RNA', 'nFeature_RNA', 'percent_mt', 'Author_Exclude', 'Author_Class', 'Author_CellType', 'percent_exclude_features', 'S.Score', 'G2M.Score', 'Phase', 'Batch_ID', 'Author_Condition', 'Sex', 'Author_Batch', 'Author_Class_Curated', 'C2', 'C7', 'C25', 'C66', 'C185', 'C286', 'C465', 'C2_named', 'C7_named', 'C25_named', 'C66_named', 'C185_named', 'C286_named', 'C465_named', 'Region_predicted', 'Region_summarized'\n",
       "    var: 'features'\n",
       "    uns: 'neighbors'\n",
       "    obsm: 'X_scvi', 'X_umap_scvi'\n",
       "    obsp: 'distances'"
      ]
     },
     "execution_count": 6,
     "metadata": {},
     "output_type": "execute_result"
    }
   ],
   "source": [
    "hm_sc = sc.read_h5ad(\"/beegfs/scratch/bruening_scratch/lsteuernagel/data/hypoMap_publication/hypoMap.h5ad\")"
   ]
  },
  {
   "cell_type": "markdown",
   "id": "6c393950",
   "metadata": {},
   "source": [
    "### Gene markers"
   ]
  },
  {
   "cell_type": "markdown",
   "id": "f35a3a56",
   "metadata": {},
   "source": [
    "#### DEG"
   ]
  },
  {
   "cell_type": "code",
   "execution_count": null,
   "id": "db0fedd7",
   "metadata": {},
   "outputs": [],
   "source": [
    "sc.tl.rank_genes_groups(hm_sc, groupby=\"C185_named\", use_raw=False, method='wilcoxon')\n",
    "markers_df = pd.DataFrame(hm_sc.uns[\"rank_genes_groups\"][\"names\"]).iloc[0:100, :] #50,100,200\n",
    "markers = list(np.unique(markers_df.melt().value.values))\n",
    "len(markers)"
   ]
  },
  {
   "cell_type": "markdown",
   "id": "d0fdc656",
   "metadata": {},
   "source": [
    "#### MR approaches"
   ]
  },
  {
   "cell_type": "code",
   "execution_count": 7,
   "id": "76b0ef20",
   "metadata": {},
   "outputs": [
    {
     "data": {
      "text/plain": [
       "1300"
      ]
     },
     "execution_count": 7,
     "metadata": {},
     "output_type": "execute_result"
    }
   ],
   "source": [
    "df_genes = np.load(\"/beegfs/home/pmatyskova/project/mrmrstep_geneset_miss_hm185cor_minres_mrx31500.npy\", \n",
    "                   allow_pickle=True)\n",
    "df_genes = pd.DataFrame(df_genes)\n",
    "\n",
    "genes_to_exclude = pd.read_csv('/beegfs/scratch/bruening_scratch/lsteuernagel/projects/analysis_projects/volumetric_analysis/genes_to_exclude.csv',\n",
    "                               header = None)\n",
    "df_genes = df_genes[~df_genes.iloc[:,0].isin(genes_to_exclude.iloc[:,0])] #exclude the genes to exclude from hypomap output\n",
    "\n",
    "markers = np.reshape(df_genes.values, (-1, ))\n",
    "markers= list(markers)\n",
    "markers = markers[0:1300]\n",
    "len(markers)"
   ]
  },
  {
   "cell_type": "markdown",
   "id": "22f2cf0b",
   "metadata": {},
   "source": [
    "#### The rest of the gene marker pipeline"
   ]
  },
  {
   "cell_type": "code",
   "execution_count": 17,
   "id": "1d1cdc28",
   "metadata": {},
   "outputs": [
    {
     "name": "stderr",
     "output_type": "stream",
     "text": [
      "INFO:root:1145 training genes are saved in `uns``training_genes` of both single cell and spatial Anndatas.\n",
      "INFO:root:3574 overlapped genes are saved in `uns``overlap_genes` of both single cell and spatial Anndatas.\n",
      "INFO:root:uniform based density prior is calculated and saved in `obs``uniform_density` of the spatial Anndata.\n",
      "INFO:root:rna count based density prior is calculated and saved in `obs``rna_count_based_density` of the spatial Anndata.\n"
     ]
    }
   ],
   "source": [
    "tg.pp_adatas(hm_sc, ish_sp, genes=markers)"
   ]
  },
  {
   "cell_type": "code",
   "execution_count": 18,
   "id": "1912146b",
   "metadata": {},
   "outputs": [],
   "source": [
    "assert hm_sc.uns['training_genes'] == ish_sp.uns['training_genes']"
   ]
  },
  {
   "cell_type": "markdown",
   "id": "c618642c",
   "metadata": {},
   "source": [
    "## Train the model"
   ]
  },
  {
   "cell_type": "code",
   "execution_count": 19,
   "id": "bf3b3ae9",
   "metadata": {},
   "outputs": [
    {
     "name": "stderr",
     "output_type": "stream",
     "text": [
      "INFO:root:Allocate tensors for mapping.\n",
      "INFO:root:Begin training with 1145 genes and rna_count_based density_prior in clusters mode...\n",
      "INFO:root:Printing scores every 100 epochs.\n"
     ]
    },
    {
     "name": "stdout",
     "output_type": "stream",
     "text": [
      "Score: 0.669, KL reg: 0.028\n",
      "Score: 0.755, KL reg: 0.001\n",
      "Score: 0.757, KL reg: 0.001\n",
      "Score: 0.757, KL reg: 0.001\n",
      "Score: 0.757, KL reg: 0.001\n",
      "Score: 0.757, KL reg: 0.001\n",
      "Score: 0.757, KL reg: 0.001\n",
      "Score: 0.757, KL reg: 0.001\n",
      "Score: 0.758, KL reg: 0.001\n",
      "Score: 0.758, KL reg: 0.001\n"
     ]
    },
    {
     "name": "stderr",
     "output_type": "stream",
     "text": [
      "INFO:root:Saving results..\n"
     ]
    }
   ],
   "source": [
    "ad_map = tg.map_cells_to_space(adata_sc=hm_sc, adata_sp=ish_sp, mode='clusters', \n",
    "                               cluster_label = 'C185_named')"
   ]
  },
  {
   "cell_type": "markdown",
   "id": "3f0753b1",
   "metadata": {},
   "source": [
    "## Save the results"
   ]
  },
  {
   "cell_type": "code",
   "execution_count": 20,
   "id": "fe2d2a28",
   "metadata": {},
   "outputs": [],
   "source": [
    "np.save(file = \"/beegfs/home/pmatyskova/project/d_tangram_hm185cor_minres_markers_filled0\", \n",
    "        arr = np.transpose(ad_map.X))\n",
    "ad_map.obs.to_csv(\"/beegfs/home/pmatyskova/project/dobs_tangram_hm185cor_minres_markers_filled0\")\n",
    "ad_map.var.to_csv(\"/beegfs/home/pmatyskova/project/dvar_tangram_hm185cor_minres_markers_filled0\")"
   ]
  },
  {
   "cell_type": "markdown",
   "id": "416ddf31",
   "metadata": {},
   "source": [
    "## Quantitative model evaluation"
   ]
  },
  {
   "cell_type": "markdown",
   "id": "026fd00d",
   "metadata": {},
   "source": [
    "### Fit back"
   ]
  },
  {
   "cell_type": "code",
   "execution_count": 13,
   "id": "f6166f53",
   "metadata": {},
   "outputs": [],
   "source": [
    "training_genes = hm_sc.uns['training_genes']\n",
    "hm_sct = hm_sc[:, training_genes].copy()\n",
    "\n",
    "training_genes = ish_sp.uns['training_genes']\n",
    "ish_spt = ish_sp[:, training_genes].copy()"
   ]
  },
  {
   "cell_type": "code",
   "execution_count": 21,
   "id": "e65b8598",
   "metadata": {},
   "outputs": [],
   "source": [
    "ad_ge = tg.project_genes(\n",
    "                  ad_map, \n",
    "                  hm_sc, #hm_sc_neurons or hm_sc, or hm_sct for mode='constrained'\n",
    "                  cluster_label='C185_named') #C286 ir C185"
   ]
  },
  {
   "cell_type": "code",
   "execution_count": 22,
   "id": "c9a8e1f7",
   "metadata": {},
   "outputs": [],
   "source": [
    "df_all_genes = tg.compare_spatial_geneexp(ad_ge, ish_sp, hm_sc) #hm_sc_neurons or hm_sc, or hm_sct"
   ]
  },
  {
   "cell_type": "code",
   "execution_count": 23,
   "id": "4b383034",
   "metadata": {},
   "outputs": [],
   "source": [
    "df_all_genes.to_csv(\"/beegfs/home/pmatyskova/project/corr_tangram_hm185cor_minres_markers_filled0.csv\") "
   ]
  },
  {
   "cell_type": "code",
   "execution_count": 171,
   "id": "a3e3c133",
   "metadata": {},
   "outputs": [],
   "source": [
    "full.to_csv(\"/beegfs/home/pmatyskova/project/feval_tangram_hm185cor_minres_full_csv\") "
   ]
  },
  {
   "cell_type": "markdown",
   "id": "e73270dc",
   "metadata": {},
   "source": [
    "### Ground truth evaluation"
   ]
  },
  {
   "cell_type": "code",
   "execution_count": 24,
   "id": "12bde5d6",
   "metadata": {},
   "outputs": [],
   "source": [
    "def annot_function(d_matrix, annot, ref): #d_matrix in mode='cluster', d in mode='constrained'\n",
    "    #annotate predictions (cell type & voxel locations + ABA annotations)\n",
    "    d = pd.DataFrame(np.transpose(d_matrix.X)) #from anndata to pandas, comment in mode='constrained'\n",
    "    d.columns = d_matrix.obs['C185_named'] #C286 or C185, comment in mode='constrained\n",
    "    d = d.loc[:,d.columns.isin(ref.loc[:,'cluster'])] #only keep cell types for which we have reference\n",
    "    d['merge'] = d.index #index column for merging\n",
    "    d_annot = pd.merge(d, annot)\n",
    "    d_annot = d_annot.drop('merge', axis = 1)\n",
    "    \n",
    "    return(d_annot)"
   ]
  },
  {
   "cell_type": "code",
   "execution_count": 25,
   "id": "f49c1c10",
   "metadata": {},
   "outputs": [],
   "source": [
    "def eval_function(d_matrix, annot, ref):    \n",
    "    #evaluation (comparson with the ground truth)\n",
    "    d_ann = annot_function(d_matrix, annot, ref)\n",
    "    \n",
    "    model_eval = []\n",
    "    for i in range(ref.shape[0]):\n",
    "        #filter region that is predicted in the ground truth for each cell type\n",
    "        #to include not only exact region name but also its children - not just \"Medial preoptic nucleus\"\n",
    "        #but also Medial preoptic nucleus, central/lateral/medial part:\n",
    "        filt = [] \n",
    "        for j in range(d_matrix.shape[1]): #1 in mode='cluster', 0 in mode='constrained'\n",
    "            filt_i = ref['Region_ground_truth'][i] in d_ann['name'][j]\n",
    "            filt.append(filt_i)\n",
    "        d_filt = d_ann[filt]\n",
    "    \n",
    "        #calculations:\n",
    "        score_i = sum(d_filt[ref['cluster'][i]])\n",
    "        model_eval.append(score_i)\n",
    "    \n",
    "    copy_ref = copy.copy(ref)\n",
    "    copy_ref['model_eval'] = model_eval\n",
    "    return(copy_ref)"
   ]
  },
  {
   "cell_type": "code",
   "execution_count": 26,
   "id": "bfb48376",
   "metadata": {},
   "outputs": [],
   "source": [
    "ann_hypnoSFO = pd.read_csv('/beegfs/home/pmatyskova/project/ish_annot_hypnoSFO.csv')\n",
    "ann_hypnoSFO['merge'] = ann_hypnoSFO.index\n",
    "ann_hypnoSFO = ann_hypnoSFO.iloc[:,[0,1,2,7,14]]"
   ]
  },
  {
   "cell_type": "code",
   "execution_count": 3,
   "id": "b5a132d2",
   "metadata": {},
   "outputs": [],
   "source": [
    "gt_hm185 = pd.read_csv('/beegfs/scratch/bruening_scratch/lsteuernagel/projects/analysis_projects/volumetric_analysis/hypoMap_region_annotation_withSpatial_C185.txt', sep = \"\\t\")\n",
    "\n",
    "gt_hm185 = gt_hm185.iloc[:,0:2]"
   ]
  },
  {
   "cell_type": "code",
   "execution_count": 4,
   "id": "f4407d36",
   "metadata": {},
   "outputs": [],
   "source": [
    "gt_hm185 = gt_hm185.drop_duplicates(subset = ['cluster'], keep='first')\n",
    "gt_hm185.index = np.arange(0,len(gt_hm185))"
   ]
  },
  {
   "cell_type": "code",
   "execution_count": 29,
   "id": "33a0653e",
   "metadata": {
    "scrolled": true
   },
   "outputs": [
    {
     "data": {
      "text/html": [
       "<div>\n",
       "<style scoped>\n",
       "    .dataframe tbody tr th:only-of-type {\n",
       "        vertical-align: middle;\n",
       "    }\n",
       "\n",
       "    .dataframe tbody tr th {\n",
       "        vertical-align: top;\n",
       "    }\n",
       "\n",
       "    .dataframe thead th {\n",
       "        text-align: right;\n",
       "    }\n",
       "</style>\n",
       "<table border=\"1\" class=\"dataframe\">\n",
       "  <thead>\n",
       "    <tr style=\"text-align: right;\">\n",
       "      <th></th>\n",
       "      <th>cluster</th>\n",
       "      <th>Region_ground_truth</th>\n",
       "      <th>model_eval</th>\n",
       "    </tr>\n",
       "  </thead>\n",
       "  <tbody>\n",
       "    <tr>\n",
       "      <th>0</th>\n",
       "      <td>C185-65: Unassigned.Mixed.GABA-2</td>\n",
       "      <td>Medial preoptic nucleus</td>\n",
       "      <td>0.016048</td>\n",
       "    </tr>\n",
       "    <tr>\n",
       "      <th>1</th>\n",
       "      <td>C185-71: Vip.Vipr2.GABA-2</td>\n",
       "      <td>Suprachiasmatic nucleus</td>\n",
       "      <td>0.195754</td>\n",
       "    </tr>\n",
       "    <tr>\n",
       "      <th>2</th>\n",
       "      <td>C185-72: Fam122b.Vipr2.GABA-2</td>\n",
       "      <td>Suprachiasmatic nucleus</td>\n",
       "      <td>0.006874</td>\n",
       "    </tr>\n",
       "    <tr>\n",
       "      <th>3</th>\n",
       "      <td>C185-73: Cck.Vipr2.GABA-2</td>\n",
       "      <td>Suprachiasmatic nucleus</td>\n",
       "      <td>0.023255</td>\n",
       "    </tr>\n",
       "    <tr>\n",
       "      <th>4</th>\n",
       "      <td>C185-11: Cbln2.Trh.GLU-2</td>\n",
       "      <td>Paraventricular hypothalamic nucleus</td>\n",
       "      <td>0.077735</td>\n",
       "    </tr>\n",
       "    <tr>\n",
       "      <th>...</th>\n",
       "      <td>...</td>\n",
       "      <td>...</td>\n",
       "      <td>...</td>\n",
       "    </tr>\n",
       "    <tr>\n",
       "      <th>63</th>\n",
       "      <td>C185-134: Frzb.Tanycytes</td>\n",
       "      <td>Arcuate hypothalamic nucleus</td>\n",
       "      <td>0.237568</td>\n",
       "    </tr>\n",
       "    <tr>\n",
       "      <th>64</th>\n",
       "      <td>C185-51: Tac2.GLU-5</td>\n",
       "      <td>Arcuate hypothalamic nucleus</td>\n",
       "      <td>0.062594</td>\n",
       "    </tr>\n",
       "    <tr>\n",
       "      <th>65</th>\n",
       "      <td>C185-61: Prkch.GLU-8</td>\n",
       "      <td>Lateral mammillary nucleus</td>\n",
       "      <td>0.178093</td>\n",
       "    </tr>\n",
       "    <tr>\n",
       "      <th>66</th>\n",
       "      <td>C185-64: Meis2.Mixed.GABA-2</td>\n",
       "      <td>Zona incerta</td>\n",
       "      <td>0.514649</td>\n",
       "    </tr>\n",
       "    <tr>\n",
       "      <th>67</th>\n",
       "      <td>C185-66: Unassigned.Mixed.GABA-2</td>\n",
       "      <td>Anterior hypothalamic nucleus</td>\n",
       "      <td>0.125360</td>\n",
       "    </tr>\n",
       "  </tbody>\n",
       "</table>\n",
       "<p>68 rows × 3 columns</p>\n",
       "</div>"
      ],
      "text/plain": [
       "                             cluster                   Region_ground_truth  \\\n",
       "0   C185-65: Unassigned.Mixed.GABA-2               Medial preoptic nucleus   \n",
       "1          C185-71: Vip.Vipr2.GABA-2               Suprachiasmatic nucleus   \n",
       "2      C185-72: Fam122b.Vipr2.GABA-2               Suprachiasmatic nucleus   \n",
       "3          C185-73: Cck.Vipr2.GABA-2               Suprachiasmatic nucleus   \n",
       "4           C185-11: Cbln2.Trh.GLU-2  Paraventricular hypothalamic nucleus   \n",
       "..                               ...                                   ...   \n",
       "63          C185-134: Frzb.Tanycytes          Arcuate hypothalamic nucleus   \n",
       "64               C185-51: Tac2.GLU-5          Arcuate hypothalamic nucleus   \n",
       "65              C185-61: Prkch.GLU-8            Lateral mammillary nucleus   \n",
       "66       C185-64: Meis2.Mixed.GABA-2                          Zona incerta   \n",
       "67  C185-66: Unassigned.Mixed.GABA-2         Anterior hypothalamic nucleus   \n",
       "\n",
       "    model_eval  \n",
       "0     0.016048  \n",
       "1     0.195754  \n",
       "2     0.006874  \n",
       "3     0.023255  \n",
       "4     0.077735  \n",
       "..         ...  \n",
       "63    0.237568  \n",
       "64    0.062594  \n",
       "65    0.178093  \n",
       "66    0.514649  \n",
       "67    0.125360  \n",
       "\n",
       "[68 rows x 3 columns]"
      ]
     },
     "execution_count": 29,
     "metadata": {},
     "output_type": "execute_result"
    }
   ],
   "source": [
    "final_eval = eval_function(ad_map, ann_hypnoSFO, gt_hm185) "
   ]
  },
  {
   "cell_type": "markdown",
   "id": "ed626f9f",
   "metadata": {},
   "source": [
    "## Permutation test"
   ]
  },
  {
   "cell_type": "markdown",
   "id": "0e903767",
   "metadata": {},
   "source": [
    "### Permutation test on voxel randomised prediction matrix"
   ]
  },
  {
   "cell_type": "code",
   "execution_count": 30,
   "id": "4a433fb7",
   "metadata": {},
   "outputs": [],
   "source": [
    "def voxelperm_annot_function(d_matrix, annot, ref): #d_matrix in eval mode='cluster', d in mode='constrained'\n",
    "    #annotate voxel permuted predictions (cell type & randomised voxel location + ABA annotations)\n",
    "    d = pd.DataFrame(np.transpose(d_matrix.X)) #from anndata to pandas, comment in mode='constrained'\n",
    "    d.columns = d_matrix.obs['C185_named'] #C286 or C185, comment in mode='constrained'\n",
    "    d = d.loc[:,d.columns.isin(ref.loc[:,'cluster'])] #only keep cell types for which we have reference\n",
    "    \n",
    "    d_perm = d.sample(frac=1, axis=0) #suffle row order\n",
    "    d_perm.index = d.index\n",
    "    \n",
    "    d_perm['merge'] = d_perm.index #index column for merging\n",
    "    d_annot = pd.merge(d_perm, annot)\n",
    "    d_annot = d_annot.drop('merge', axis = 1)\n",
    "    \n",
    "    model_eval = []\n",
    "    for i in range(ref.shape[0]):\n",
    "        #filter region that is predicted in the ground truth for each cell type\n",
    "        #to include not only exact region name but also its children - not just \"Medial preoptic nucleus\"\n",
    "        #but also Medial preoptic nucleus, central/lateral/medial part:\n",
    "        filt = [] \n",
    "        for j in range(d_matrix.shape[1]): #1 & d_matrix in mode='cluster', 0 & d in mode='constrained'\n",
    "            filt_i = ref['Region_ground_truth'][i] in d_annot['name'][j]\n",
    "            filt.append(filt_i)\n",
    "        d_filt = d_annot[filt]\n",
    "    \n",
    "        #calculations:\n",
    "        score_i = sum(d_filt[ref['cluster'][i]])\n",
    "        model_eval.append(score_i)\n",
    "    \n",
    "    copy2_ref = copy.copy(ref)\n",
    "    copy2_ref['randmodel_eval'] = model_eval\n",
    "    return(copy2_ref)"
   ]
  },
  {
   "cell_type": "code",
   "execution_count": 31,
   "id": "fed6c2cf",
   "metadata": {},
   "outputs": [
    {
     "data": {
      "text/html": [
       "<div>\n",
       "<style scoped>\n",
       "    .dataframe tbody tr th:only-of-type {\n",
       "        vertical-align: middle;\n",
       "    }\n",
       "\n",
       "    .dataframe tbody tr th {\n",
       "        vertical-align: top;\n",
       "    }\n",
       "\n",
       "    .dataframe thead th {\n",
       "        text-align: right;\n",
       "    }\n",
       "</style>\n",
       "<table border=\"1\" class=\"dataframe\">\n",
       "  <thead>\n",
       "    <tr style=\"text-align: right;\">\n",
       "      <th></th>\n",
       "      <th>cluster</th>\n",
       "      <th>Region_ground_truth</th>\n",
       "      <th>model_eval</th>\n",
       "      <th>voxpermut_eval</th>\n",
       "    </tr>\n",
       "  </thead>\n",
       "  <tbody>\n",
       "    <tr>\n",
       "      <th>0</th>\n",
       "      <td>C185-65: Unassigned.Mixed.GABA-2</td>\n",
       "      <td>Medial preoptic nucleus</td>\n",
       "      <td>0.016048</td>\n",
       "      <td>0.012267</td>\n",
       "    </tr>\n",
       "    <tr>\n",
       "      <th>1</th>\n",
       "      <td>C185-71: Vip.Vipr2.GABA-2</td>\n",
       "      <td>Suprachiasmatic nucleus</td>\n",
       "      <td>0.195754</td>\n",
       "      <td>0.007443</td>\n",
       "    </tr>\n",
       "    <tr>\n",
       "      <th>2</th>\n",
       "      <td>C185-72: Fam122b.Vipr2.GABA-2</td>\n",
       "      <td>Suprachiasmatic nucleus</td>\n",
       "      <td>0.006874</td>\n",
       "      <td>0.006415</td>\n",
       "    </tr>\n",
       "    <tr>\n",
       "      <th>3</th>\n",
       "      <td>C185-73: Cck.Vipr2.GABA-2</td>\n",
       "      <td>Suprachiasmatic nucleus</td>\n",
       "      <td>0.023255</td>\n",
       "      <td>0.006155</td>\n",
       "    </tr>\n",
       "    <tr>\n",
       "      <th>4</th>\n",
       "      <td>C185-11: Cbln2.Trh.GLU-2</td>\n",
       "      <td>Paraventricular hypothalamic nucleus</td>\n",
       "      <td>0.077735</td>\n",
       "      <td>0.017306</td>\n",
       "    </tr>\n",
       "    <tr>\n",
       "      <th>...</th>\n",
       "      <td>...</td>\n",
       "      <td>...</td>\n",
       "      <td>...</td>\n",
       "      <td>...</td>\n",
       "    </tr>\n",
       "    <tr>\n",
       "      <th>63</th>\n",
       "      <td>C185-134: Frzb.Tanycytes</td>\n",
       "      <td>Arcuate hypothalamic nucleus</td>\n",
       "      <td>0.237568</td>\n",
       "      <td>0.012890</td>\n",
       "    </tr>\n",
       "    <tr>\n",
       "      <th>64</th>\n",
       "      <td>C185-51: Tac2.GLU-5</td>\n",
       "      <td>Arcuate hypothalamic nucleus</td>\n",
       "      <td>0.062594</td>\n",
       "      <td>0.013042</td>\n",
       "    </tr>\n",
       "    <tr>\n",
       "      <th>65</th>\n",
       "      <td>C185-61: Prkch.GLU-8</td>\n",
       "      <td>Lateral mammillary nucleus</td>\n",
       "      <td>0.178093</td>\n",
       "      <td>0.004280</td>\n",
       "    </tr>\n",
       "    <tr>\n",
       "      <th>66</th>\n",
       "      <td>C185-64: Meis2.Mixed.GABA-2</td>\n",
       "      <td>Zona incerta</td>\n",
       "      <td>0.514649</td>\n",
       "      <td>0.131358</td>\n",
       "    </tr>\n",
       "    <tr>\n",
       "      <th>67</th>\n",
       "      <td>C185-66: Unassigned.Mixed.GABA-2</td>\n",
       "      <td>Anterior hypothalamic nucleus</td>\n",
       "      <td>0.125360</td>\n",
       "      <td>0.045618</td>\n",
       "    </tr>\n",
       "  </tbody>\n",
       "</table>\n",
       "<p>68 rows × 4 columns</p>\n",
       "</div>"
      ],
      "text/plain": [
       "                             cluster                   Region_ground_truth  \\\n",
       "0   C185-65: Unassigned.Mixed.GABA-2               Medial preoptic nucleus   \n",
       "1          C185-71: Vip.Vipr2.GABA-2               Suprachiasmatic nucleus   \n",
       "2      C185-72: Fam122b.Vipr2.GABA-2               Suprachiasmatic nucleus   \n",
       "3          C185-73: Cck.Vipr2.GABA-2               Suprachiasmatic nucleus   \n",
       "4           C185-11: Cbln2.Trh.GLU-2  Paraventricular hypothalamic nucleus   \n",
       "..                               ...                                   ...   \n",
       "63          C185-134: Frzb.Tanycytes          Arcuate hypothalamic nucleus   \n",
       "64               C185-51: Tac2.GLU-5          Arcuate hypothalamic nucleus   \n",
       "65              C185-61: Prkch.GLU-8            Lateral mammillary nucleus   \n",
       "66       C185-64: Meis2.Mixed.GABA-2                          Zona incerta   \n",
       "67  C185-66: Unassigned.Mixed.GABA-2         Anterior hypothalamic nucleus   \n",
       "\n",
       "    model_eval  voxpermut_eval  \n",
       "0     0.016048        0.012267  \n",
       "1     0.195754        0.007443  \n",
       "2     0.006874        0.006415  \n",
       "3     0.023255        0.006155  \n",
       "4     0.077735        0.017306  \n",
       "..         ...             ...  \n",
       "63    0.237568        0.012890  \n",
       "64    0.062594        0.013042  \n",
       "65    0.178093        0.004280  \n",
       "66    0.514649        0.131358  \n",
       "67    0.125360        0.045618  \n",
       "\n",
       "[68 rows x 4 columns]"
      ]
     },
     "execution_count": 31,
     "metadata": {},
     "output_type": "execute_result"
    }
   ],
   "source": [
    "voxpermutation_iters = 200\n",
    "voxpermut_evals = pd.DataFrame(columns = list(map('x{}'.format, range(1, voxpermutation_iters+1))))\n",
    "for i in range(voxpermutation_iters):\n",
    "    dvoxperm_evaluation = voxelperm_annot_function(ad_map, ann_hypnoSFO, gt_hm185) #gt_hm286 or gt_hm286n or gt_hm185\n",
    "    voxpermut_evals.iloc[:,i] = dvoxperm_evaluation['randmodel_eval']\n",
    "\n",
    "voxpermut_eval_tot = voxpermut_evals.mean(axis=1)\n",
    "final_eval['voxpermut_eval'] = voxpermut_eval_tot\n",
    "final_eval"
   ]
  },
  {
   "cell_type": "code",
   "execution_count": 33,
   "id": "4a4e6732",
   "metadata": {},
   "outputs": [],
   "source": [
    "final_eval.to_csv(\"/beegfs/home/pmatyskova/project/feval_tangram_hm185cor_markers_filled0.csv\") "
   ]
  },
  {
   "cell_type": "code",
   "execution_count": null,
   "id": "d6fe71e7",
   "metadata": {},
   "outputs": [],
   "source": []
  }
 ],
 "metadata": {
  "kernelspec": {
   "display_name": "Python 3 (ipykernel)",
   "language": "python",
   "name": "python3"
  },
  "language_info": {
   "codemirror_mode": {
    "name": "ipython",
    "version": 3
   },
   "file_extension": ".py",
   "mimetype": "text/x-python",
   "name": "python",
   "nbconvert_exporter": "python",
   "pygments_lexer": "ipython3",
   "version": "3.10.5"
  }
 },
 "nbformat": 4,
 "nbformat_minor": 5
}
