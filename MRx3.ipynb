{
 "cells": [
  {
   "cell_type": "markdown",
   "id": "d8ca4177",
   "metadata": {},
   "source": [
    "## Imports"
   ]
  },
  {
   "cell_type": "code",
   "execution_count": 2,
   "id": "37a9a307",
   "metadata": {},
   "outputs": [
    {
     "name": "stderr",
     "output_type": "stream",
     "text": [
      "Matplotlib created a temporary config/cache directory at /tmp/matplotlib-_okjjfud because the default path (/home/jovyan/.cache/matplotlib) is not a writable directory; it is highly recommended to set the MPLCONFIGDIR environment variable to a writable directory, in particular to speed up the import of Matplotlib and to better support multiprocessing.\n"
     ]
    }
   ],
   "source": [
    "import numpy as np\n",
    "import pandas as pd\n",
    "import matplotlib.pyplot as plt\n",
    "import random "
   ]
  },
  {
   "cell_type": "markdown",
   "id": "c471ead0",
   "metadata": {},
   "source": [
    "## Import data"
   ]
  },
  {
   "cell_type": "markdown",
   "id": "71b8578d",
   "metadata": {},
   "source": [
    "### from Minres probe selection script"
   ]
  },
  {
   "cell_type": "code",
   "execution_count": 15,
   "id": "8f4e3190",
   "metadata": {},
   "outputs": [],
   "source": [
    "c = np.load(\"/beegfs/home/pmatyskova/project/ishfstep_c_hm185cor_coefvar_filled0.npy\")\n",
    "e = np.load(\"/beegfs/home/pmatyskova/project/ishfstep_e_hm185cor_coefvar_filled0.npy\")\n",
    "gene_annot = np.load(\"/beegfs/home/pmatyskova/project/ishfstep_geneset_hm185cor_coefvar_filled0.npy\",allow_pickle=True)"
   ]
  },
  {
   "cell_type": "code",
   "execution_count": 16,
   "id": "20c457a5",
   "metadata": {},
   "outputs": [
    {
     "data": {
      "text/plain": [
       "(3585, 185)"
      ]
     },
     "execution_count": 16,
     "metadata": {},
     "output_type": "execute_result"
    }
   ],
   "source": [
    "c.shape"
   ]
  },
  {
   "cell_type": "markdown",
   "id": "225926a8",
   "metadata": {},
   "source": [
    "## Define and Calculate Residuals"
   ]
  },
  {
   "cell_type": "code",
   "execution_count": 17,
   "id": "f3fce911",
   "metadata": {},
   "outputs": [],
   "source": [
    "def Resid(c_m, e_m):\n",
    "    error_tot = np.full(len(c_m), np.inf)\n",
    "    for i in range(len(c_m)):\n",
    "        c_without_genei = np.delete(c_m, i, 0)\n",
    "        e_without_genei = np.delete(e_m, i, 0)\n",
    "        d_without_genei = np.matmul(np.linalg.pinv(c_without_genei), e_without_genei)\n",
    "        error1 = sum((e_m[i,:] - np.matmul(c_m[i,:],d_without_genei))**2)\n",
    "        error2 = sum((np.matmul(c_m[i,:], np.linalg.pinv(c_without_genei)))**2)*np.dot(e_m[i,:], e_m[i,:])\n",
    "        error_tot[i] = error1 + error2\n",
    "    return error_tot"
   ]
  },
  {
   "cell_type": "code",
   "execution_count": 18,
   "id": "e3bffc33",
   "metadata": {},
   "outputs": [],
   "source": [
    "gene_res = Resid(c, e)"
   ]
  },
  {
   "cell_type": "markdown",
   "id": "40934ed5",
   "metadata": {},
   "source": [
    "## Filter high error genes"
   ]
  },
  {
   "cell_type": "code",
   "execution_count": 19,
   "id": "1b165950",
   "metadata": {},
   "outputs": [],
   "source": [
    "c_filt = c[0,:]\n",
    "gene_annotations_filt = []\n",
    "e_filt = e[0,:]\n",
    "\n",
    "for i in range(len(c)):\n",
    "    if gene_res[i] < np.percentile(gene_res, 95):\n",
    "        c_filt = np.vstack([c_filt, c[i,:]])\n",
    "        gene_annotations_filt.append(gene_annot[i]) \n",
    "        e_filt = np.vstack([e_filt, e[i,:]])\n",
    "        \n",
    "c_filt = np.delete(c_filt, 0, 0)\n",
    "e_filt = np.delete(e_filt, 0, 0)"
   ]
  },
  {
   "cell_type": "code",
   "execution_count": 20,
   "id": "05c27a0d",
   "metadata": {},
   "outputs": [],
   "source": [
    "np.save(file = \"/beegfs/home/pmatyskova/project/mrx3step_e_miss_hm185cor_coefvar_mrx395_filled0\", arr = e_filt)\n",
    "np.save(file = \"/beegfs/home/pmatyskova/project/mrx3step_c_miss_hm185cor_coefvar_mrx395_filled0\", arr = c_filt)\n",
    "np.save(file = \"/beegfs/home/pmatyskova/project/mrx3step_geneset_miss_hm185cor_coefvar_mrx395_filled0\", arr = gene_annotations_filt)"
   ]
  },
  {
   "cell_type": "markdown",
   "id": "fb523166",
   "metadata": {},
   "source": [
    "## Residual analysis"
   ]
  },
  {
   "cell_type": "markdown",
   "id": "738dbca8",
   "metadata": {},
   "source": [
    "to pick the 95th percentile"
   ]
  },
  {
   "cell_type": "code",
   "execution_count": 44,
   "id": "52602075",
   "metadata": {},
   "outputs": [],
   "source": [
    "c_matrix = pd.read_csv(\"/beegfs/home/pmatyskova/project/c_matrix_ncfull_annot.csv\")\n",
    "gene_annotations = c_matrix['Unnamed: 0']\n",
    "\n",
    "gene_res_ncannot = np.load(\"/beegfs/home/pmatyskova/project/gene_res_ncfull.npy\")\n",
    "gene_res_ncannot = pd.DataFrame(gene_res_ncannot)\n",
    "gene_res_ncannot.index = gene_annotations\n",
    "gene_res_ncannot.columns = ['resid']\n",
    "\n",
    "gene_res_nc = np.load(\"/beegfs/home/pmatyskova/project/gene_res_ncfull.npy\")"
   ]
  },
  {
   "cell_type": "code",
   "execution_count": 68,
   "id": "feef2e5b",
   "metadata": {},
   "outputs": [],
   "source": [
    "gene_res_ncannot_td = gene_res_ncannot.sort_values(by = 'resid', ascending=False)\n",
    "bot3 = gene_res_ncannot_td.iloc[0:3,:]\n",
    "gene_res_ncannot_du = gene_res_ncannot.sort_values(by = 'resid')\n",
    "top3 = gene_res_ncannot_du.iloc[0:3,:]"
   ]
  },
  {
   "cell_type": "code",
   "execution_count": 69,
   "id": "3e94b7eb",
   "metadata": {},
   "outputs": [],
   "source": [
    "all_bot = gene_res_ncannot.loc[gene_res_ncannot['resid'] > prec95]\n",
    "nums = random.sample(range(0, all_bot.shape[0]), 3)\n",
    "rand3_bad = all_bot.iloc[nums,:]"
   ]
  },
  {
   "cell_type": "code",
   "execution_count": 71,
   "id": "f169c7bd",
   "metadata": {},
   "outputs": [
    {
     "data": {
      "text/html": [
       "<div>\n",
       "<style scoped>\n",
       "    .dataframe tbody tr th:only-of-type {\n",
       "        vertical-align: middle;\n",
       "    }\n",
       "\n",
       "    .dataframe tbody tr th {\n",
       "        vertical-align: top;\n",
       "    }\n",
       "\n",
       "    .dataframe thead th {\n",
       "        text-align: right;\n",
       "    }\n",
       "</style>\n",
       "<table border=\"1\" class=\"dataframe\">\n",
       "  <thead>\n",
       "    <tr style=\"text-align: right;\">\n",
       "      <th></th>\n",
       "      <th>resid</th>\n",
       "    </tr>\n",
       "    <tr>\n",
       "      <th>Unnamed: 0</th>\n",
       "      <th></th>\n",
       "    </tr>\n",
       "  </thead>\n",
       "  <tbody>\n",
       "    <tr>\n",
       "      <th>Cdh3</th>\n",
       "      <td>3.794180</td>\n",
       "    </tr>\n",
       "    <tr>\n",
       "      <th>Sstr4</th>\n",
       "      <td>4.770167</td>\n",
       "    </tr>\n",
       "    <tr>\n",
       "      <th>Mas1</th>\n",
       "      <td>17.499791</td>\n",
       "    </tr>\n",
       "  </tbody>\n",
       "</table>\n",
       "</div>"
      ],
      "text/plain": [
       "                resid\n",
       "Unnamed: 0           \n",
       "Cdh3         3.794180\n",
       "Sstr4        4.770167\n",
       "Mas1        17.499791"
      ]
     },
     "execution_count": 71,
     "metadata": {},
     "output_type": "execute_result"
    }
   ],
   "source": [
    "top3"
   ]
  },
  {
   "cell_type": "code",
   "execution_count": 72,
   "id": "69274793",
   "metadata": {},
   "outputs": [
    {
     "data": {
      "text/html": [
       "<div>\n",
       "<style scoped>\n",
       "    .dataframe tbody tr th:only-of-type {\n",
       "        vertical-align: middle;\n",
       "    }\n",
       "\n",
       "    .dataframe tbody tr th {\n",
       "        vertical-align: top;\n",
       "    }\n",
       "\n",
       "    .dataframe thead th {\n",
       "        text-align: right;\n",
       "    }\n",
       "</style>\n",
       "<table border=\"1\" class=\"dataframe\">\n",
       "  <thead>\n",
       "    <tr style=\"text-align: right;\">\n",
       "      <th></th>\n",
       "      <th>resid</th>\n",
       "    </tr>\n",
       "    <tr>\n",
       "      <th>Unnamed: 0</th>\n",
       "      <th></th>\n",
       "    </tr>\n",
       "  </thead>\n",
       "  <tbody>\n",
       "    <tr>\n",
       "      <th>Heatr5b</th>\n",
       "      <td>1.903910e+06</td>\n",
       "    </tr>\n",
       "    <tr>\n",
       "      <th>Flcn</th>\n",
       "      <td>1.761794e+06</td>\n",
       "    </tr>\n",
       "    <tr>\n",
       "      <th>Acsl5</th>\n",
       "      <td>1.687998e+06</td>\n",
       "    </tr>\n",
       "  </tbody>\n",
       "</table>\n",
       "</div>"
      ],
      "text/plain": [
       "                   resid\n",
       "Unnamed: 0              \n",
       "Heatr5b     1.903910e+06\n",
       "Flcn        1.761794e+06\n",
       "Acsl5       1.687998e+06"
      ]
     },
     "execution_count": 72,
     "metadata": {},
     "output_type": "execute_result"
    }
   ],
   "source": [
    "bot3"
   ]
  },
  {
   "cell_type": "code",
   "execution_count": 73,
   "id": "d88418e1",
   "metadata": {},
   "outputs": [
    {
     "data": {
      "text/html": [
       "<div>\n",
       "<style scoped>\n",
       "    .dataframe tbody tr th:only-of-type {\n",
       "        vertical-align: middle;\n",
       "    }\n",
       "\n",
       "    .dataframe tbody tr th {\n",
       "        vertical-align: top;\n",
       "    }\n",
       "\n",
       "    .dataframe thead th {\n",
       "        text-align: right;\n",
       "    }\n",
       "</style>\n",
       "<table border=\"1\" class=\"dataframe\">\n",
       "  <thead>\n",
       "    <tr style=\"text-align: right;\">\n",
       "      <th></th>\n",
       "      <th>resid</th>\n",
       "    </tr>\n",
       "    <tr>\n",
       "      <th>Unnamed: 0</th>\n",
       "      <th></th>\n",
       "    </tr>\n",
       "  </thead>\n",
       "  <tbody>\n",
       "    <tr>\n",
       "      <th>Cd81</th>\n",
       "      <td>257147.690016</td>\n",
       "    </tr>\n",
       "    <tr>\n",
       "      <th>Cdca7</th>\n",
       "      <td>574545.128675</td>\n",
       "    </tr>\n",
       "    <tr>\n",
       "      <th>Syn1</th>\n",
       "      <td>334826.445394</td>\n",
       "    </tr>\n",
       "  </tbody>\n",
       "</table>\n",
       "</div>"
      ],
      "text/plain": [
       "                    resid\n",
       "Unnamed: 0               \n",
       "Cd81        257147.690016\n",
       "Cdca7       574545.128675\n",
       "Syn1        334826.445394"
      ]
     },
     "execution_count": 73,
     "metadata": {},
     "output_type": "execute_result"
    }
   ],
   "source": [
    "rand3_bad"
   ]
  },
  {
   "cell_type": "code",
   "execution_count": 76,
   "id": "446a55d2",
   "metadata": {
    "scrolled": true
   },
   "outputs": [
    {
     "data": {
      "image/png": "[encoded data removed]",
      "text/plain": [
       "<Figure size 432x288 with 1 Axes>"
      ]
     },
     "metadata": {
      "needs_background": "light"
     },
     "output_type": "display_data"
    }
   ],
   "source": [
    "prec95 = np.percentile(gene_res_nc, 95)\n",
    "\n",
    "gene_res_ncannot.resid.plot.density(color='green')\n",
    "plt.axvline(prec95, color='black')\n",
    "plt.axvline(rand3_bad.iloc[0,0], color='red')\n",
    "plt.axvline(rand3_bad.iloc[1,0], color='red')\n",
    "plt.axvline(rand3_bad.iloc[2,0], color='red')\n",
    "plt.title('Residuals of non-corrected genes')\n",
    "plt.show()"
   ]
  }
 ],
 "metadata": {
  "kernelspec": {
   "display_name": "Python 3 (ipykernel)",
   "language": "python",
   "name": "python3"
  },
  "language_info": {
   "codemirror_mode": {
    "name": "ipython",
    "version": 3
   },
   "file_extension": ".py",
   "mimetype": "text/x-python",
   "name": "python",
   "nbconvert_exporter": "python",
   "pygments_lexer": "ipython3",
   "version": "3.10.5"
  }
 },
 "nbformat": 4,
 "nbformat_minor": 5
}
